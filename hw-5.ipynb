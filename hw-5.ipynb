{
 "cells": [
  {
   "cell_type": "code",
   "execution_count": 10,
   "metadata": {
    "collapsed": true
   },
   "outputs": [],
   "source": [
    "%matplotlib inline\n",
    "import numpy as np\n",
    "import matplotlib.pyplot as plt"
   ]
  },
  {
   "cell_type": "code",
   "execution_count": 11,
   "metadata": {
    "collapsed": true
   },
   "outputs": [],
   "source": [
    "def dydx(x,y):\n",
    "    \n",
    "    #dydx = z\n",
    "    #dzdx = -y\n",
    "    \n",
    "\n",
    "    #y = y[0]\n",
    "    #z = y[1]\n",
    "    \n",
    "    #make array\n",
    "    y_derivs = np.zeros(2)\n",
    "                       \n",
    "    #def deriv\n",
    "    y_derivs[0] = y[1]\n",
    "    \n",
    "    #def deriv\n",
    "    y_derivs[1] = -1*y[0]\n",
    "    \n",
    "    #return array\n",
    "    return y_derivs\n"
   ]
  },
  {
   "cell_type": "code",
   "execution_count": 12,
   "metadata": {
    "collapsed": true
   },
   "outputs": [],
   "source": [
    "def rk4_mv_core(dydx,xi,yi,nv,h):\n",
    "    \n",
    "    #k arrays\n",
    "    k1 = np.zeros(nv)  \n",
    "    k2 = np.zeros(nv)\n",
    "    k3 = np.zeros(nv)\n",
    "    k4 = np.zeros(nv)\n",
    "    k5 = np.zeros(nv)\n",
    "    k6 = np.zeros(nv)\n",
    "    \n",
    "    \n",
    "    #temp y array\n",
    "    y_temp = np.zeros(nv)\n",
    "    \n",
    "    #defining a, b, b*, c values\n",
    "    c2 = 1/5\n",
    "    c3 = 3/10\n",
    "    c4 = 3/5\n",
    "    c5 = 1\n",
    "    c6 = 7/8\n",
    "    \n",
    "    a21 = 1/5\n",
    "    a31 = 3/40\n",
    "    a41 = 3/10\n",
    "    a51 = -11/54\n",
    "    a61 = 1631/55296\n",
    "    \n",
    "    a32 = 9/40\n",
    "    a42 = -9/10\n",
    "    a52 = 5/2\n",
    "    a62 = 175/512\n",
    "    \n",
    "    a43 = 6/5\n",
    "    a53 = -70/27\n",
    "    a63 = 575/13824\n",
    "    \n",
    "    a54 = 35/27\n",
    "    a64 = 44275/110592\n",
    "    \n",
    "    a65 = 253/4096\n",
    "    \n",
    "    b1 = 37/378\n",
    "    b2 = 0\n",
    "    b3 = 250/621\n",
    "    b4 = 125/594\n",
    "    b5 = 0\n",
    "    b6 = 512/1771\n",
    "    \n",
    "    b1star = 2825/27648\n",
    "    b2star = 0\n",
    "    b3star = 18575/48384\n",
    "    b4star = 13525/55296\n",
    "    b5star = 277/14336\n",
    "    b6star = 1/4\n",
    "    \n",
    "       \n",
    "    #k1 values\n",
    "    y_derivs = dydx(xi,yi)\n",
    "    k1[:] = h*y_derivs[:]\n",
    "    \n",
    "    #k2 values\n",
    "    y_temp[:] = yi[:] + a21*k1[:]\n",
    "    y_derivs = dydx(xi + c2*h, y_temp)\n",
    "    k2[:] = h*y_derivs[:]\n",
    "    \n",
    "    #k3 values\n",
    "    y_temp[:] = yi[:] + a31*k1[:] + a32*k2[:]\n",
    "    y_derivs = dydx(xi+c3*h,y_temp)\n",
    "    k3[:] = h*y_derivs[:]\n",
    "    \n",
    "    #k4 values \n",
    "    y_temp[:] = yi[:] + a41*k1[:] + a42*k2[:] + a43*k3[:]\n",
    "    y_derivs = dydx(xi + c4*h,y_temp)\n",
    "    k4[:] = h*y_derivs[:]\n",
    "    \n",
    "    #k5 values\n",
    "    y_temp[:] = yi[:] + a51*k1[:] + a52*k2[:] + a53*k3[:] + a54*k4[:]\n",
    "    y_derivs = dydx(xi + c5*h,y_temp)\n",
    "    k5[:] = h*y_derivs[:]\n",
    "    \n",
    "    #k6 values\n",
    "    y_temp[:] = yi[:] + a61*k1[:] + a62*k2[:] + a63*k3[:] + a64*k4[:] + a65*k5[:]\n",
    "    y_derivs = dydx(xi + c6*h,y_temp)\n",
    "    k6[:] = h*y_derivs[:]\n",
    "    \n",
    "    #error analysis\n",
    "    yipo = yi + b1*k1 + b2*k2 + b3*k3 + b4*k4 + b5*k5 + b6*k6\n",
    "    \n",
    "    yipostar = yi + b1star*k1 + b2star*k2 + b3star*k3 + b4star*k4 + b5star*k5 + b6star*k6\n",
    "    \n",
    "    return yipo"
   ]
  },
  {
   "cell_type": "code",
   "execution_count": 13,
   "metadata": {
    "collapsed": true
   },
   "outputs": [],
   "source": [
    "def rk4_mv_ad(dydx,x_i,y_i,nv,h,tol):\n",
    "    \n",
    "    #safety scale\n",
    "    SAFETY    = 0.9\n",
    "    H_NEW_FAC = 2.0\n",
    "    \n",
    "    #max iterations\n",
    "    imax = 10000\n",
    "    \n",
    "    #i initial\n",
    "    i = 0\n",
    "    \n",
    "    #error value\n",
    "    Delta = np.full(nv,2*tol)\n",
    "    \n",
    "    #step tracker\n",
    "    h_step = h\n",
    "    \n",
    "    #adjust step\n",
    "    while(Delta.max()/tol > 1.0):\n",
    "        \n",
    "        #estimate error with one step of h compared to two steps of h/2\n",
    "        y_2 = rk4_mv_core(dydx,x_i,y_i,nv,h_step)\n",
    "        y_1 = rk4_mv_core(dydx,x_i,y_i,nv,0.5*h_step)\n",
    "        y_11 = rk4_mv_core(dydx,x_i+0.5*h_step,y_1,nv,0.5*h_step)\n",
    "        \n",
    "        #error\n",
    "        Delta = np.fabs(y_2 - y_11)\n",
    "        \n",
    "        #check size of error\n",
    "        if(Delta.max()/tol > 1.0):\n",
    "            \n",
    "            #decrease step size to reduce error\n",
    "            h_step *= SAFETY * (Delta.max()/tol)**(-0.25)\n",
    "            \n",
    "        #iteration counter\n",
    "        if(i>=imax):\n",
    "            print(\"Too many iterations in rk4_mv_ad()\")\n",
    "            raise StopIteration(\"Ending after i = \",i)\n",
    "            \n",
    "        #add iteration\n",
    "        i+=1\n",
    "        \n",
    "    #attempt with larger step\n",
    "    h_new = np.fmin(h_step * (Delta.max()/tol)**(-0.9), h_step*H_NEW_FAC)\n",
    "    \n",
    "    # return the answer, a new step, and the step we actually took\n",
    "    return y_2, h_new, h_step"
   ]
  },
  {
   "cell_type": "code",
   "execution_count": 14,
   "metadata": {
    "collapsed": true
   },
   "outputs": [],
   "source": [
    "def rk4_mv(dfdx,a,b,y_a,tol):\n",
    "    \n",
    "    #dfdx is the derivative of wrt x\n",
    "    #a = lower bound\n",
    "    #b = upper bound\n",
    "    #y_a are the boundary conditions\n",
    "    #tol is the tolerance\n",
    "    \n",
    "    #define our starting step\n",
    "    xi = a\n",
    "    yi = y_a.copy()\n",
    "    \n",
    "    #small initial step size\n",
    "    h = 1.0e-4 * (b-a)\n",
    "    \n",
    "    #max iterations\n",
    "    imax = 10000\n",
    "    \n",
    "    #iteration var\n",
    "    i = 0\n",
    "    \n",
    "    #set the number of coupled odes to the size of y_a\n",
    "    nv = len(y_a)\n",
    "    \n",
    "    #set the initial conditions\n",
    "    x = np.full(1,a)\n",
    "    y = np.full((1,nv),y_a)\n",
    "    \n",
    "    #set a flag\n",
    "    flag = 1\n",
    "    \n",
    "    #loop untill we reach the right side\n",
    "    while(flag):\n",
    "        \n",
    "        #calculate y_i+1\n",
    "        yi_new, h_new, h_step = rk4_mv_ad(dydx,xi,yi,nv,h,tol)\n",
    "        \n",
    "        #update the new step\n",
    "        h = h_new\n",
    "        \n",
    "        #prevent an overshoot\n",
    "        if(xi+h_step>b):\n",
    "            \n",
    "            #take a smaller step\n",
    "            h = b-xi\n",
    "            \n",
    "            #recalculate y_i+1\n",
    "            yi_new, h_new, h_step = rk4_mv_ad(dydx,xi,yi,nv,h,tol)\n",
    "            \n",
    "            #break\n",
    "            flag = 0\n",
    "            \n",
    "        #update values\n",
    "        xi += h_step\n",
    "        yi[:] = yi_new[:]\n",
    "        \n",
    "        #add the step to the arrays\n",
    "        x = np.append(x,xi)\n",
    "        y_new = np.zeros((len(x),nv))\n",
    "        y_new[0:len(x)-1,:] = y\n",
    "        y_new[-1,:] = yi[:]\n",
    "        del y\n",
    "        y = y_new\n",
    "        \n",
    "        # prevent too many iterations\n",
    "        if(i>=imax):\n",
    "            \n",
    "            print(\"maximum iterations reached.\")\n",
    "            raise StopIteration(\"Iteration number = \",i)\n",
    "            \n",
    "        #iterate\n",
    "        i += 1\n",
    "        \n",
    "        #output some information\n",
    "        s = \"i = %3d\\tx = %9.8f\\th = %9.8f\\tb=%9.8f\" % (i,xi,h_step, b)\n",
    "        print(s)\n",
    "        \n",
    "        #break if new xi is == b\n",
    "        if(xi==b):\n",
    "            flag = 0\n",
    "    \n",
    "    #return the answer\n",
    "    return x,y\n"
   ]
  },
  {
   "cell_type": "code",
   "execution_count": 15,
   "metadata": {},
   "outputs": [
    {
     "name": "stdout",
     "output_type": "stream",
     "text": [
      "i =   1\tx = 0.00062832\th = 0.00062832\tb=6.28318531\n",
      "i =   2\tx = 0.00188496\th = 0.00125664\tb=6.28318531\n",
      "i =   3\tx = 0.00439823\th = 0.00251327\tb=6.28318531\n",
      "i =   4\tx = 0.00942478\th = 0.00502655\tb=6.28318531\n",
      "i =   5\tx = 0.01947787\th = 0.01005310\tb=6.28318531\n",
      "i =   6\tx = 0.03958407\th = 0.02010619\tb=6.28318531\n",
      "i =   7\tx = 0.07979645\th = 0.04021239\tb=6.28318531\n",
      "i =   8\tx = 0.16022123\th = 0.08042477\tb=6.28318531\n",
      "i =   9\tx = 0.32107077\th = 0.16084954\tb=6.28318531\n",
      "i =  10\tx = 0.64276986\th = 0.32169909\tb=6.28318531\n",
      "i =  11\tx = 0.95166461\th = 0.30889476\tb=6.28318531\n",
      "i =  12\tx = 1.26805818\th = 0.31639356\tb=6.28318531\n",
      "i =  13\tx = 1.58812907\th = 0.32007089\tb=6.28318531\n",
      "i =  14\tx = 1.92439441\th = 0.33626534\tb=6.28318531\n",
      "i =  15\tx = 2.23091949\th = 0.30652508\tb=6.28318531\n",
      "i =  16\tx = 2.54903350\th = 0.31811400\tb=6.28318531\n",
      "i =  17\tx = 2.86042607\th = 0.31139258\tb=6.28318531\n",
      "i =  18\tx = 3.18409468\th = 0.32366861\tb=6.28318531\n",
      "i =  19\tx = 3.51559780\th = 0.33150312\tb=6.28318531\n",
      "i =  20\tx = 3.82438660\th = 0.30878880\tb=6.28318531\n",
      "i =  21\tx = 4.14079248\th = 0.31640588\tb=6.28318531\n",
      "i =  22\tx = 4.45346361\th = 0.31267113\tb=6.28318531\n",
      "i =  23\tx = 4.77740094\th = 0.32393733\tb=6.28318531\n",
      "i =  24\tx = 5.10702381\th = 0.32962288\tb=6.28318531\n",
      "i =  25\tx = 5.41632475\th = 0.30930094\tb=6.28318531\n",
      "i =  26\tx = 5.73220464\th = 0.31587989\tb=6.28318531\n",
      "i =  27\tx = 6.04551371\th = 0.31330907\tb=6.28318531\n",
      "i =  28\tx = 6.28318531\th = 0.23767160\tb=6.28318531\n"
     ]
    }
   ],
   "source": [
    "a = 0.0\n",
    "b = 2.0 * np.pi\n",
    "y_0 = np.zeros(2)\n",
    "y_0[0] = 0.0\n",
    "y_0[1] = 1.0\n",
    "nv = 2\n",
    "tolerance = 1.0e-6\n",
    "x,y = rk4_mv(dydx,a,b,y_0,tolerance)\n"
   ]
  },
  {
   "cell_type": "code",
   "execution_count": 16,
   "metadata": {},
   "outputs": [
    {
     "data": {
      "text/plain": [
       "<matplotlib.legend.Legend at 0x10ec51358>"
      ]
     },
     "execution_count": 16,
     "metadata": {},
     "output_type": "execute_result"
    },
    {
     "data": {
      "image/png": "[encoded data removed]",
      "text/plain": [
       "<matplotlib.figure.Figure at 0x10ebc0dd8>"
      ]
     },
     "metadata": {},
     "output_type": "display_data"
    }
   ],
   "source": [
    "plt.plot(x,y[:,0],'o',label='y(x)')\n",
    "plt.plot(x,y[:,1],'o',label='dydx(x)')\n",
    "xx = np.linspace(0,2.0*np.pi,1000)\n",
    "plt.plot(xx,np.sin(xx),label='sin(x)')\n",
    "plt.plot(xx,np.cos(xx),label='cos(x)')\n",
    "plt.xlabel('x')\n",
    "plt.ylabel('y,dy/dx')\n",
    "plt.legend(frameon=False)"
   ]
  },
  {
   "cell_type": "code",
   "execution_count": 17,
   "metadata": {},
   "outputs": [
    {
     "data": {
      "text/plain": [
       "<matplotlib.legend.Legend at 0x10eca0cc0>"
      ]
     },
     "execution_count": 17,
     "metadata": {},
     "output_type": "execute_result"
    },
    {
     "data": {
      "image/png": "[encoded data removed]",
      "text/plain": [
       "<matplotlib.figure.Figure at 0x10ed08128>"
      ]
     },
     "metadata": {},
     "output_type": "display_data"
    }
   ],
   "source": [
    "sine = np.sin(x)\n",
    "cosine = np.cos(x)\n",
    "\n",
    "y_error = (y[:,0]-sine)\n",
    "dydx_error = (y[:,1]-cosine)\n",
    "\n",
    "plt.plot(x, y_error, label='y(x) Error')\n",
    "plt.plot(x, dydx_error, label =\"dydx(x) Error\")\n",
    "plt.legend(frameon=False)\n"
   ]
  },
  {
   "cell_type": "code",
   "execution_count": null,
   "metadata": {
    "collapsed": true
   },
   "outputs": [],
   "source": []
  }
 ],
 "metadata": {
  "kernelspec": {
   "display_name": "Python 3",
   "language": "python",
   "name": "python3"
  },
  "language_info": {
   "codemirror_mode": {
    "name": "ipython",
    "version": 3
   },
   "file_extension": ".py",
   "mimetype": "text/x-python",
   "name": "python",
   "nbconvert_exporter": "python",
   "pygments_lexer": "ipython3",
   "version": "3.6.1"
  }
 },
 "nbformat": 4,
 "nbformat_minor": 2
}
